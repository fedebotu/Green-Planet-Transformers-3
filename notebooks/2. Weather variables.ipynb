{
 "cells": [
  {
   "cell_type": "markdown",
   "metadata": {},
   "source": [
    "## Load ERA5 data\n"
   ]
  },
  {
   "cell_type": "code",
   "execution_count": null,
   "metadata": {},
   "outputs": [],
   "source": [
    "%load_ext autoreload\n",
    "%autoreload 2\n",
    "\n",
    "import numpy as np\n",
    "import matplotlib.pyplot as plt\n",
    "import os\n",
    "from pathlib import Path\n",
    "import requests\n",
    "import h5py\n",
    "import sys; sys.path.append('../')\n",
    "import openai\n",
    "\n",
    "from backend.geoloc import geocode, get_closest_pixel"
   ]
  },
  {
   "cell_type": "code",
   "execution_count": null,
   "metadata": {},
   "outputs": [],
   "source": [
    "data_dir = Path('../data/era5/')\n",
    "\n",
    "# Open h5py file\n",
    "f = h5py.File(data_dir / 'sample.h5', 'r')"
   ]
  },
  {
   "cell_type": "code",
   "execution_count": null,
   "metadata": {},
   "outputs": [],
   "source": [
    "# Load u wind, v wind, and temperature\n",
    "u = f['u10'][0]\n",
    "v = f['v10'][0]\n",
    "temp = f['t2m'][0]"
   ]
  },
  {
   "cell_type": "code",
   "execution_count": null,
   "metadata": {},
   "outputs": [],
   "source": [
    "# Image represents the Earth: get closest pixel to target location\n",
    "data = geocode(city='San Francisco', state='CA', country_code='US')\n",
    "lat_idx, lon_idx = get_closest_pixel(data['lat'], data['lon'])\n",
    "\n",
    "# Get the data\n",
    "u_sf = u[lat_idx, lon_idx]\n",
    "v_sf = v[lat_idx, lon_idx]\n",
    "temp_sf = temp[lat_idx, lon_idx]\n",
    "print('Wind speed: {:.2f} [m/s]'.format(np.sqrt(u_sf**2 + v_sf**2)))\n",
    "print(\"Temperature: {:.2f} [C]\".format(temp_sf - 273.15)) # kelvin to celsius\n"
   ]
  },
  {
   "cell_type": "code",
   "execution_count": null,
   "metadata": {},
   "outputs": [],
   "source": [
    "# Plot on a map San Francisco\n",
    "plt.figure(figsize=(10, 10))\n",
    "plt.imshow(temp, cmap='coolwarm')\n",
    "plt.scatter(lon_idx, lat_idx, c='b', s=100, marker='*')\n",
    "plt.title('San Francisco')"
   ]
  },
  {
   "cell_type": "markdown",
   "metadata": {},
   "source": [
    "### Time Series"
   ]
  },
  {
   "cell_type": "code",
   "execution_count": null,
   "metadata": {},
   "outputs": [],
   "source": [
    "data_dir = Path('../data/era5/')\n",
    "\n",
    "# Open h5py file\n",
    "f = h5py.File(data_dir / 'single_week.h5', 'r')\n",
    "\n",
    "# Load u wind, v wind, and temperature\n",
    "u = f['u10'][:, lat_idx, lon_idx]\n",
    "v = f['v10'][:, lat_idx, lon_idx]\n",
    "temp = f['t2m'][:, lat_idx, lon_idx]"
   ]
  },
  {
   "cell_type": "code",
   "execution_count": null,
   "metadata": {},
   "outputs": [],
   "source": [
    "# set font latex\n",
    "plt.rc('font', family='serif')\n",
    "# 16 font size\n",
    "plt.rcParams.update({'font.size': 18})\n",
    "\n",
    "fig, axs = plt.subplots(2,1, figsize=(12, 6))\n",
    "axs[0].scatter(np.arange(28), np.sqrt(u**2 + v**2), c='b', s=100, marker='2')\n",
    "axs[0].set_title('Wind Speed [m/s]')\n",
    "axs[0].set_xticks([0, 4, 8, 12, 16, 20, 24, 28])\n",
    "axs[0].set_xticklabels(['0', '1', '2', '3', '4', '5', '6', '7'])\n",
    "\n",
    "axs[1].scatter(np.arange(28), temp - 273.15, c='r', s=100, marker='2')\n",
    "axs[1].set_title('Temperature [C]')\n",
    "axs[1].set_xticks([0, 4, 8, 12, 16, 20, 24, 28])\n",
    "axs[1].set_xticklabels(['0', '1', '2', '3', '4', '5', '6', '7'])\n",
    "\n",
    "plt.tight_layout()"
   ]
  },
  {
   "cell_type": "markdown",
   "metadata": {},
   "source": [
    "## OpenAI GPT-3"
   ]
  },
  {
   "cell_type": "code",
   "execution_count": null,
   "metadata": {},
   "outputs": [],
   "source": [
    "import os\n",
    "import openai\n",
    "\n",
    "openai.api_key = os.environ[\"OPENAI_API_KEY\"]\n",
    "target_variables = ['u10', 'v10', 't2m', 'tp', 'r850', 'sp']\n",
    "\n",
    "# build dictionary of the above with their description and units in square brackets\n",
    "# U wind component = eastward wind \n",
    "# V wind component = northward wind\n",
    "variables = {'u10': 'Eastward wind  [km/h]',\n",
    "            'v10': 'Northward wind [km/h]',\n",
    "            't2m': 'Surface temperature [°C]',\n",
    "            'tp': 'Total precipitation [mm]',\n",
    "            'r850': 'Relative humidity [%]',\n",
    "            'sp': 'Surface pressure [hPa]'}\n",
    "\n",
    "# Convert from m/s to km/h, and kelvin to celsius\n",
    "conversion_factors = {  'u10': {'factor': 3.6, 'offset': 0},\n",
    "                        'v10': {'factor': 3.6, 'offset': 0},\n",
    "                        't2m': {'factor': 1, 'offset': -273.15},\n",
    "                        'tp': {'factor': 1, 'offset': 0},\n",
    "                        'r850': {'factor': 1, 'offset': 0},\n",
    "                        'sp': {'factor': 0.01, 'offset': 0}}\n",
    "\n",
    "def rescale(x, var):\n",
    "    return x * conversion_factors[var]['factor'] + conversion_factors[var]['offset']\n",
    "\n",
    "\n",
    "prompt = \"\"\n",
    "\n",
    "time_idx = 0\n",
    "\n",
    "for i, var in enumerate(target_variables):\n",
    "    prompt += \"{} is {:.1f}\\n\".format(variables[var], rescale(f[var][time_idx, lat_idx, lon_idx], var))\n",
    "\n",
    "\n",
    "print(prompt)"
   ]
  },
  {
   "cell_type": "code",
   "execution_count": null,
   "metadata": {},
   "outputs": [],
   "source": [
    "final_prompt = prompt + \"\\n Given the above information, what is the weather like? How much is the temperatur in Fahreneit?\"\n",
    "\n",
    "\n",
    "response = openai.Completion.create(\n",
    "    model=\"text-davinci-002\",\n",
    "    prompt=final_prompt,\n",
    "    temperature=0,\n",
    "    max_tokens=1000,\n",
    "    top_p=1,\n",
    "    frequency_penalty=0,\n",
    "    presence_penalty=0,\n",
    "    stop=[\" Human:\", \" AI:\"] #\\n\n",
    ")"
   ]
  },
  {
   "cell_type": "code",
   "execution_count": null,
   "metadata": {
    "scrolled": true
   },
   "outputs": [],
   "source": [
    "print(response['choices'][0]['text'][2:])"
   ]
  }
 ],
 "metadata": {
  "kernelspec": {
   "display_name": "Python 3.10.6 ('env': venv)",
   "language": "python",
   "name": "python3"
  },
  "language_info": {
   "codemirror_mode": {
    "name": "ipython",
    "version": 3
   },
   "file_extension": ".py",
   "mimetype": "text/x-python",
   "name": "python",
   "nbconvert_exporter": "python",
   "pygments_lexer": "ipython3",
   "version": "3.10.6"
  },
  "vscode": {
   "interpreter": {
    "hash": "59baffb890c9232534747c27c9bb0af7473719d99bbf6139ee7c29709750fc89"
   }
  }
 },
 "nbformat": 4,
 "nbformat_minor": 2
}
