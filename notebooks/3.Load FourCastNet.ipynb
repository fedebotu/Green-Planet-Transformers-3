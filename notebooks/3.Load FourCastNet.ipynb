{
 "cells": [
  {
   "cell_type": "code",
   "execution_count": 15,
   "metadata": {},
   "outputs": [
    {
     "name": "stdout",
     "output_type": "stream",
     "text": [
      "The autoreload extension is already loaded. To reload it, use:\n",
      "  %reload_ext autoreload\n"
     ]
    }
   ],
   "source": [
    "import sys\n",
    "sys.path.append('../../')\n",
    "from fourcastnet.model import *\n",
    "from fourcastnet.utils import YParams\n",
    "from torchinfo import summary\n",
    "\n",
    "%load_ext autoreload\n",
    "%autoreload 2"
   ]
  },
  {
   "cell_type": "markdown",
   "metadata": {},
   "source": [
    "### Initialize FourCastNet model"
   ]
  },
  {
   "cell_type": "code",
   "execution_count": 10,
   "metadata": {},
   "outputs": [],
   "source": [
    "cfg = YParams('../../fourcastnet/config/AFNO.yaml', 'full_field')"
   ]
  },
  {
   "cell_type": "code",
   "execution_count": 11,
   "metadata": {},
   "outputs": [
    {
     "data": {
      "text/plain": [
       "dict_keys(['loss', 'lr', 'scheduler', 'num_data_workers', 'dt', 'n_history', 'prediction_type', 'prediction_length', 'n_initial_conditions', 'ics_type', 'save_raw_forecasts', 'save_channel', 'masked_acc', 'maskpath', 'perturb', 'add_grid', 'N_grid_channels', 'gridtype', 'roll', 'max_epochs', 'batch_size', 'num_blocks', 'nettype', 'patch_size', 'width', 'modes', 'target', 'in_channels', 'out_channels', 'normalization', 'train_data_path', 'valid_data_path', 'inf_data_path', 'exp_dir', 'time_means_path', 'global_means_path', 'global_stds_path', 'orography', 'orography_path', 'log_to_screen', 'log_to_wandb', 'save_checkpoint', 'enable_nhwc', 'optimizer_type', 'crop_size_x', 'crop_size_y', 'two_step_training', 'plot_animations', 'add_noise', 'noise_std'])"
      ]
     },
     "execution_count": 11,
     "metadata": {},
     "output_type": "execute_result"
    }
   ],
   "source": [
    "cfg.params.keys()"
   ]
  },
  {
   "cell_type": "code",
   "execution_count": 13,
   "metadata": {},
   "outputs": [],
   "source": [
    "model = AFNONet(\n",
    "    **cfg.params\n",
    ")"
   ]
  },
  {
   "cell_type": "code",
   "execution_count": 21,
   "metadata": {},
   "outputs": [
    {
     "data": {
      "text/plain": [
       "31854.42816"
      ]
     },
     "execution_count": 21,
     "metadata": {},
     "output_type": "execute_result"
    }
   ],
   "source": [
    "12443136 * 32 * 8 / 100000"
   ]
  },
  {
   "cell_type": "code",
   "execution_count": 18,
   "metadata": {},
   "outputs": [
    {
     "name": "stdout",
     "output_type": "stream",
     "text": [
      "input shape: torch.Size([1, 2, 720, 1440])\n",
      "post patch_embed shape: torch.Size([1, 16200, 768])\n",
      "pre afno layers shape: torch.Size([1, 90, 180, 768])\n"
     ]
    },
    {
     "data": {
      "text/plain": [
       "==========================================================================================\n",
       "Layer (type:depth-idx)                   Output Shape              Param #\n",
       "==========================================================================================\n",
       "AFNONet                                  [1, 2, 720, 1440]         12,443,136\n",
       "├─PatchEmbed: 1-1                        [1, 16200, 768]           --\n",
       "│    └─Conv2d: 2-1                       [1, 768, 90, 180]         99,072\n",
       "├─Dropout: 1-2                           [1, 16200, 768]           --\n",
       "├─ModuleList: 1-3                        --                        --\n",
       "│    └─Block: 2-2                        [1, 90, 180, 768]         --\n",
       "│    │    └─LayerNorm: 3-1               [1, 90, 180, 768]         1,536\n",
       "│    │    └─AFNO2D: 3-2                  [1, 90, 180, 768]         297,984\n",
       "│    │    └─LayerNorm: 3-3               [1, 90, 180, 768]         1,536\n",
       "│    │    └─Mlp: 3-4                     [1, 90, 180, 768]         4,722,432\n",
       "│    │    └─Identity: 3-5                [1, 90, 180, 768]         --\n",
       "│    └─Block: 2-3                        [1, 90, 180, 768]         --\n",
       "│    │    └─LayerNorm: 3-6               [1, 90, 180, 768]         1,536\n",
       "│    │    └─AFNO2D: 3-7                  [1, 90, 180, 768]         297,984\n",
       "│    │    └─LayerNorm: 3-8               [1, 90, 180, 768]         1,536\n",
       "│    │    └─Mlp: 3-9                     [1, 90, 180, 768]         4,722,432\n",
       "│    │    └─Identity: 3-10               [1, 90, 180, 768]         --\n",
       "│    └─Block: 2-4                        [1, 90, 180, 768]         --\n",
       "│    │    └─LayerNorm: 3-11              [1, 90, 180, 768]         1,536\n",
       "│    │    └─AFNO2D: 3-12                 [1, 90, 180, 768]         297,984\n",
       "│    │    └─LayerNorm: 3-13              [1, 90, 180, 768]         1,536\n",
       "│    │    └─Mlp: 3-14                    [1, 90, 180, 768]         4,722,432\n",
       "│    │    └─Identity: 3-15               [1, 90, 180, 768]         --\n",
       "│    └─Block: 2-5                        [1, 90, 180, 768]         --\n",
       "│    │    └─LayerNorm: 3-16              [1, 90, 180, 768]         1,536\n",
       "│    │    └─AFNO2D: 3-17                 [1, 90, 180, 768]         297,984\n",
       "│    │    └─LayerNorm: 3-18              [1, 90, 180, 768]         1,536\n",
       "│    │    └─Mlp: 3-19                    [1, 90, 180, 768]         4,722,432\n",
       "│    │    └─Identity: 3-20               [1, 90, 180, 768]         --\n",
       "│    └─Block: 2-6                        [1, 90, 180, 768]         --\n",
       "│    │    └─LayerNorm: 3-21              [1, 90, 180, 768]         1,536\n",
       "│    │    └─AFNO2D: 3-22                 [1, 90, 180, 768]         297,984\n",
       "│    │    └─LayerNorm: 3-23              [1, 90, 180, 768]         1,536\n",
       "│    │    └─Mlp: 3-24                    [1, 90, 180, 768]         4,722,432\n",
       "│    │    └─Identity: 3-25               [1, 90, 180, 768]         --\n",
       "│    └─Block: 2-7                        [1, 90, 180, 768]         --\n",
       "│    │    └─LayerNorm: 3-26              [1, 90, 180, 768]         1,536\n",
       "│    │    └─AFNO2D: 3-27                 [1, 90, 180, 768]         297,984\n",
       "│    │    └─LayerNorm: 3-28              [1, 90, 180, 768]         1,536\n",
       "│    │    └─Mlp: 3-29                    [1, 90, 180, 768]         4,722,432\n",
       "│    │    └─Identity: 3-30               [1, 90, 180, 768]         --\n",
       "│    └─Block: 2-8                        [1, 90, 180, 768]         --\n",
       "│    │    └─LayerNorm: 3-31              [1, 90, 180, 768]         1,536\n",
       "│    │    └─AFNO2D: 3-32                 [1, 90, 180, 768]         297,984\n",
       "│    │    └─LayerNorm: 3-33              [1, 90, 180, 768]         1,536\n",
       "│    │    └─Mlp: 3-34                    [1, 90, 180, 768]         4,722,432\n",
       "│    │    └─Identity: 3-35               [1, 90, 180, 768]         --\n",
       "│    └─Block: 2-9                        [1, 90, 180, 768]         --\n",
       "│    │    └─LayerNorm: 3-36              [1, 90, 180, 768]         1,536\n",
       "│    │    └─AFNO2D: 3-37                 [1, 90, 180, 768]         297,984\n",
       "│    │    └─LayerNorm: 3-38              [1, 90, 180, 768]         1,536\n",
       "│    │    └─Mlp: 3-39                    [1, 90, 180, 768]         4,722,432\n",
       "│    │    └─Identity: 3-40               [1, 90, 180, 768]         --\n",
       "│    └─Block: 2-10                       [1, 90, 180, 768]         --\n",
       "│    │    └─LayerNorm: 3-41              [1, 90, 180, 768]         1,536\n",
       "│    │    └─AFNO2D: 3-42                 [1, 90, 180, 768]         297,984\n",
       "│    │    └─LayerNorm: 3-43              [1, 90, 180, 768]         1,536\n",
       "│    │    └─Mlp: 3-44                    [1, 90, 180, 768]         4,722,432\n",
       "│    │    └─Identity: 3-45               [1, 90, 180, 768]         --\n",
       "│    └─Block: 2-11                       [1, 90, 180, 768]         --\n",
       "│    │    └─LayerNorm: 3-46              [1, 90, 180, 768]         1,536\n",
       "│    │    └─AFNO2D: 3-47                 [1, 90, 180, 768]         297,984\n",
       "│    │    └─LayerNorm: 3-48              [1, 90, 180, 768]         1,536\n",
       "│    │    └─Mlp: 3-49                    [1, 90, 180, 768]         4,722,432\n",
       "│    │    └─Identity: 3-50               [1, 90, 180, 768]         --\n",
       "│    └─Block: 2-12                       [1, 90, 180, 768]         --\n",
       "│    │    └─LayerNorm: 3-51              [1, 90, 180, 768]         1,536\n",
       "│    │    └─AFNO2D: 3-52                 [1, 90, 180, 768]         297,984\n",
       "│    │    └─LayerNorm: 3-53              [1, 90, 180, 768]         1,536\n",
       "│    │    └─Mlp: 3-54                    [1, 90, 180, 768]         4,722,432\n",
       "│    │    └─Identity: 3-55               [1, 90, 180, 768]         --\n",
       "│    └─Block: 2-13                       [1, 90, 180, 768]         --\n",
       "│    │    └─LayerNorm: 3-56              [1, 90, 180, 768]         1,536\n",
       "│    │    └─AFNO2D: 3-57                 [1, 90, 180, 768]         297,984\n",
       "│    │    └─LayerNorm: 3-58              [1, 90, 180, 768]         1,536\n",
       "│    │    └─Mlp: 3-59                    [1, 90, 180, 768]         4,722,432\n",
       "│    │    └─Identity: 3-60               [1, 90, 180, 768]         --\n",
       "├─Linear: 1-4                            [1, 90, 180, 128]         98,304\n",
       "==========================================================================================\n",
       "Total params: 72,922,368\n",
       "Trainable params: 72,922,368\n",
       "Non-trainable params: 0\n",
       "Total mult-adds (G): 1.66\n",
       "==========================================================================================\n",
       "Input size (MB): 8.29\n",
       "Forward/backward pass size (MB): 9671.27\n",
       "Params size (MB): 241.92\n",
       "Estimated Total Size (MB): 9921.48\n",
       "=========================================================================================="
      ]
     },
     "execution_count": 18,
     "metadata": {},
     "output_type": "execute_result"
    }
   ],
   "source": [
    "summary(model, input_size=(1, 2, 720, 1440))"
   ]
  },
  {
   "cell_type": "markdown",
   "metadata": {},
   "source": [
    "### Load pretrained weights"
   ]
  },
  {
   "cell_type": "code",
   "execution_count": 37,
   "metadata": {},
   "outputs": [],
   "source": [
    "def load_model(model, checkpoint_file):\n",
    "    model.zero_grad()\n",
    "    checkpoint_fname = checkpoint_file\n",
    "    checkpoint = torch.load(checkpoint_fname, map_location=torch.device('cpu'))\n",
    "\n",
    "    try:\n",
    "        new_state_dict = OrderedDict()\n",
    "        for key, val in checkpoint['model_state'].items():\n",
    "            name = key[7:]\n",
    "            if name != 'ged':\n",
    "                new_state_dict[name] = val  \n",
    "        import pdb; pdb.set_trace()\n",
    "        model.load_state_dict(new_state_dict)\n",
    "    except:\n",
    "        model.load_state_dict(checkpoint['model_state'])\n",
    "    model.eval()\n",
    "    return model"
   ]
  },
  {
   "cell_type": "code",
   "execution_count": 38,
   "metadata": {},
   "outputs": [
    {
     "ename": "RuntimeError",
     "evalue": "Error(s) in loading state_dict for AFNONet:\n\tMissing key(s) in state_dict: \"pos_embed\", \"patch_embed.proj.weight\", \"patch_embed.proj.bias\", \"blocks.0.norm1.weight\", \"blocks.0.norm1.bias\", \"blocks.0.filter.w1\", \"blocks.0.filter.b1\", \"blocks.0.filter.w2\", \"blocks.0.filter.b2\", \"blocks.0.norm2.weight\", \"blocks.0.norm2.bias\", \"blocks.0.mlp.fc1.weight\", \"blocks.0.mlp.fc1.bias\", \"blocks.0.mlp.fc2.weight\", \"blocks.0.mlp.fc2.bias\", \"blocks.1.norm1.weight\", \"blocks.1.norm1.bias\", \"blocks.1.filter.w1\", \"blocks.1.filter.b1\", \"blocks.1.filter.w2\", \"blocks.1.filter.b2\", \"blocks.1.norm2.weight\", \"blocks.1.norm2.bias\", \"blocks.1.mlp.fc1.weight\", \"blocks.1.mlp.fc1.bias\", \"blocks.1.mlp.fc2.weight\", \"blocks.1.mlp.fc2.bias\", \"blocks.2.norm1.weight\", \"blocks.2.norm1.bias\", \"blocks.2.filter.w1\", \"blocks.2.filter.b1\", \"blocks.2.filter.w2\", \"blocks.2.filter.b2\", \"blocks.2.norm2.weight\", \"blocks.2.norm2.bias\", \"blocks.2.mlp.fc1.weight\", \"blocks.2.mlp.fc1.bias\", \"blocks.2.mlp.fc2.weight\", \"blocks.2.mlp.fc2.bias\", \"blocks.3.norm1.weight\", \"blocks.3.norm1.bias\", \"blocks.3.filter.w1\", \"blocks.3.filter.b1\", \"blocks.3.filter.w2\", \"blocks.3.filter.b2\", \"blocks.3.norm2.weight\", \"blocks.3.norm2.bias\", \"blocks.3.mlp.fc1.weight\", \"blocks.3.mlp.fc1.bias\", \"blocks.3.mlp.fc2.weight\", \"blocks.3.mlp.fc2.bias\", \"blocks.4.norm1.weight\", \"blocks.4.norm1.bias\", \"blocks.4.filter.w1\", \"blocks.4.filter.b1\", \"blocks.4.filter.w2\", \"blocks.4.filter.b2\", \"blocks.4.norm2.weight\", \"blocks.4.norm2.bias\", \"blocks.4.mlp.fc1.weight\", \"blocks.4.mlp.fc1.bias\", \"blocks.4.mlp.fc2.weight\", \"blocks.4.mlp.fc2.bias\", \"blocks.5.norm1.weight\", \"blocks.5.norm1.bias\", \"blocks.5.filter.w1\", \"blocks.5.filter.b1\", \"blocks.5.filter.w2\", \"blocks.5.filter.b2\", \"blocks.5.norm2.weight\", \"blocks.5.norm2.bias\", \"blocks.5.mlp.fc1.weight\", \"blocks.5.mlp.fc1.bias\", \"blocks.5.mlp.fc2.weight\", \"blocks.5.mlp.fc2.bias\", \"blocks.6.norm1.weight\", \"blocks.6.norm1.bias\", \"blocks.6.filter.w1\", \"blocks.6.filter.b1\", \"blocks.6.filter.w2\", \"blocks.6.filter.b2\", \"blocks.6.norm2.weight\", \"blocks.6.norm2.bias\", \"blocks.6.mlp.fc1.weight\", \"blocks.6.mlp.fc1.bias\", \"blocks.6.mlp.fc2.weight\", \"blocks.6.mlp.fc2.bias\", \"blocks.7.norm1.weight\", \"blocks.7.norm1.bias\", \"blocks.7.filter.w1\", \"blocks.7.filter.b1\", \"blocks.7.filter.w2\", \"blocks.7.filter.b2\", \"blocks.7.norm2.weight\", \"blocks.7.norm2.bias\", \"blocks.7.mlp.fc1.weight\", \"blocks.7.mlp.fc1.bias\", \"blocks.7.mlp.fc2.weight\", \"blocks.7.mlp.fc2.bias\", \"blocks.8.norm1.weight\", \"blocks.8.norm1.bias\", \"blocks.8.filter.w1\", \"blocks.8.filter.b1\", \"blocks.8.filter.w2\", \"blocks.8.filter.b2\", \"blocks.8.norm2.weight\", \"blocks.8.norm2.bias\", \"blocks.8.mlp.fc1.weight\", \"blocks.8.mlp.fc1.bias\", \"blocks.8.mlp.fc2.weight\", \"blocks.8.mlp.fc2.bias\", \"blocks.9.norm1.weight\", \"blocks.9.norm1.bias\", \"blocks.9.filter.w1\", \"blocks.9.filter.b1\", \"blocks.9.filter.w2\", \"blocks.9.filter.b2\", \"blocks.9.norm2.weight\", \"blocks.9.norm2.bias\", \"blocks.9.mlp.fc1.weight\", \"blocks.9.mlp.fc1.bias\", \"blocks.9.mlp.fc2.weight\", \"blocks.9.mlp.fc2.bias\", \"blocks.10.norm1.weight\", \"blocks.10.norm1.bias\", \"blocks.10.filter.w1\", \"blocks.10.filter.b1\", \"blocks.10.filter.w2\", \"blocks.10.filter.b2\", \"blocks.10.norm2.weight\", \"blocks.10.norm2.bias\", \"blocks.10.mlp.fc1.weight\", \"blocks.10.mlp.fc1.bias\", \"blocks.10.mlp.fc2.weight\", \"blocks.10.mlp.fc2.bias\", \"blocks.11.norm1.weight\", \"blocks.11.norm1.bias\", \"blocks.11.filter.w1\", \"blocks.11.filter.b1\", \"blocks.11.filter.w2\", \"blocks.11.filter.b2\", \"blocks.11.norm2.weight\", \"blocks.11.norm2.bias\", \"blocks.11.mlp.fc1.weight\", \"blocks.11.mlp.fc1.bias\", \"blocks.11.mlp.fc2.weight\", \"blocks.11.mlp.fc2.bias\", \"norm.weight\", \"norm.bias\", \"head.weight\". \n\tUnexpected key(s) in state_dict: \"module.pos_embed\", \"module.patch_embed.proj.weight\", \"module.patch_embed.proj.bias\", \"module.blocks.0.norm1.weight\", \"module.blocks.0.norm1.bias\", \"module.blocks.0.filter.w1\", \"module.blocks.0.filter.b1\", \"module.blocks.0.filter.w2\", \"module.blocks.0.filter.b2\", \"module.blocks.0.norm2.weight\", \"module.blocks.0.norm2.bias\", \"module.blocks.0.mlp.fc1.weight\", \"module.blocks.0.mlp.fc1.bias\", \"module.blocks.0.mlp.fc2.weight\", \"module.blocks.0.mlp.fc2.bias\", \"module.blocks.1.norm1.weight\", \"module.blocks.1.norm1.bias\", \"module.blocks.1.filter.w1\", \"module.blocks.1.filter.b1\", \"module.blocks.1.filter.w2\", \"module.blocks.1.filter.b2\", \"module.blocks.1.norm2.weight\", \"module.blocks.1.norm2.bias\", \"module.blocks.1.mlp.fc1.weight\", \"module.blocks.1.mlp.fc1.bias\", \"module.blocks.1.mlp.fc2.weight\", \"module.blocks.1.mlp.fc2.bias\", \"module.blocks.2.norm1.weight\", \"module.blocks.2.norm1.bias\", \"module.blocks.2.filter.w1\", \"module.blocks.2.filter.b1\", \"module.blocks.2.filter.w2\", \"module.blocks.2.filter.b2\", \"module.blocks.2.norm2.weight\", \"module.blocks.2.norm2.bias\", \"module.blocks.2.mlp.fc1.weight\", \"module.blocks.2.mlp.fc1.bias\", \"module.blocks.2.mlp.fc2.weight\", \"module.blocks.2.mlp.fc2.bias\", \"module.blocks.3.norm1.weight\", \"module.blocks.3.norm1.bias\", \"module.blocks.3.filter.w1\", \"module.blocks.3.filter.b1\", \"module.blocks.3.filter.w2\", \"module.blocks.3.filter.b2\", \"module.blocks.3.norm2.weight\", \"module.blocks.3.norm2.bias\", \"module.blocks.3.mlp.fc1.weight\", \"module.blocks.3.mlp.fc1.bias\", \"module.blocks.3.mlp.fc2.weight\", \"module.blocks.3.mlp.fc2.bias\", \"module.blocks.4.norm1.weight\", \"module.blocks.4.norm1.bias\", \"module.blocks.4.filter.w1\", \"module.blocks.4.filter.b1\", \"module.blocks.4.filter.w2\", \"module.blocks.4.filter.b2\", \"module.blocks.4.norm2.weight\", \"module.blocks.4.norm2.bias\", \"module.blocks.4.mlp.fc1.weight\", \"module.blocks.4.mlp.fc1.bias\", \"module.blocks.4.mlp.fc2.weight\", \"module.blocks.4.mlp.fc2.bias\", \"module.blocks.5.norm1.weight\", \"module.blocks.5.norm1.bias\", \"module.blocks.5.filter.w1\", \"module.blocks.5.filter.b1\", \"module.blocks.5.filter.w2\", \"module.blocks.5.filter.b2\", \"module.blocks.5.norm2.weight\", \"module.blocks.5.norm2.bias\", \"module.blocks.5.mlp.fc1.weight\", \"module.blocks.5.mlp.fc1.bias\", \"module.blocks.5.mlp.fc2.weight\", \"module.blocks.5.mlp.fc2.bias\", \"module.blocks.6.norm1.weight\", \"module.blocks.6.norm1.bias\", \"module.blocks.6.filter.w1\", \"module.blocks.6.filter.b1\", \"module.blocks.6.filter.w2\", \"module.blocks.6.filter.b2\", \"module.blocks.6.norm2.weight\", \"module.blocks.6.norm2.bias\", \"module.blocks.6.mlp.fc1.weight\", \"module.blocks.6.mlp.fc1.bias\", \"module.blocks.6.mlp.fc2.weight\", \"module.blocks.6.mlp.fc2.bias\", \"module.blocks.7.norm1.weight\", \"module.blocks.7.norm1.bias\", \"module.blocks.7.filter.w1\", \"module.blocks.7.filter.b1\", \"module.blocks.7.filter.w2\", \"module.blocks.7.filter.b2\", \"module.blocks.7.norm2.weight\", \"module.blocks.7.norm2.bias\", \"module.blocks.7.mlp.fc1.weight\", \"module.blocks.7.mlp.fc1.bias\", \"module.blocks.7.mlp.fc2.weight\", \"module.blocks.7.mlp.fc2.bias\", \"module.blocks.8.norm1.weight\", \"module.blocks.8.norm1.bias\", \"module.blocks.8.filter.w1\", \"module.blocks.8.filter.b1\", \"module.blocks.8.filter.w2\", \"module.blocks.8.filter.b2\", \"module.blocks.8.norm2.weight\", \"module.blocks.8.norm2.bias\", \"module.blocks.8.mlp.fc1.weight\", \"module.blocks.8.mlp.fc1.bias\", \"module.blocks.8.mlp.fc2.weight\", \"module.blocks.8.mlp.fc2.bias\", \"module.blocks.9.norm1.weight\", \"module.blocks.9.norm1.bias\", \"module.blocks.9.filter.w1\", \"module.blocks.9.filter.b1\", \"module.blocks.9.filter.w2\", \"module.blocks.9.filter.b2\", \"module.blocks.9.norm2.weight\", \"module.blocks.9.norm2.bias\", \"module.blocks.9.mlp.fc1.weight\", \"module.blocks.9.mlp.fc1.bias\", \"module.blocks.9.mlp.fc2.weight\", \"module.blocks.9.mlp.fc2.bias\", \"module.blocks.10.norm1.weight\", \"module.blocks.10.norm1.bias\", \"module.blocks.10.filter.w1\", \"module.blocks.10.filter.b1\", \"module.blocks.10.filter.w2\", \"module.blocks.10.filter.b2\", \"module.blocks.10.norm2.weight\", \"module.blocks.10.norm2.bias\", \"module.blocks.10.mlp.fc1.weight\", \"module.blocks.10.mlp.fc1.bias\", \"module.blocks.10.mlp.fc2.weight\", \"module.blocks.10.mlp.fc2.bias\", \"module.blocks.11.norm1.weight\", \"module.blocks.11.norm1.bias\", \"module.blocks.11.filter.w1\", \"module.blocks.11.filter.b1\", \"module.blocks.11.filter.w2\", \"module.blocks.11.filter.b2\", \"module.blocks.11.norm2.weight\", \"module.blocks.11.norm2.bias\", \"module.blocks.11.mlp.fc1.weight\", \"module.blocks.11.mlp.fc1.bias\", \"module.blocks.11.mlp.fc2.weight\", \"module.blocks.11.mlp.fc2.bias\", \"module.norm.weight\", \"module.norm.bias\", \"module.head.weight\". ",
     "output_type": "error",
     "traceback": [
      "\u001b[0;31m---------------------------------------------------------------------------\u001b[0m",
      "\u001b[0;31mRuntimeError\u001b[0m                              Traceback (most recent call last)",
      "\u001b[1;32m/home/michael/diffeqml/Green-Planet-Transformers-3/notebooks/michael_scratch/load_model.ipynb Cell 10\u001b[0m in \u001b[0;36mload_model\u001b[0;34m(model, checkpoint_file)\u001b[0m\n\u001b[1;32m     <a href='vscode-notebook-cell://ssh-remote%2B7b22686f73744e616d65223a224469666645714d4c32227d/home/michael/diffeqml/Green-Planet-Transformers-3/notebooks/michael_scratch/load_model.ipynb#X16sdnNjb2RlLXJlbW90ZQ%3D%3D?line=10'>11</a>\u001b[0m             new_state_dict[name] \u001b[39m=\u001b[39m val  \n\u001b[0;32m---> <a href='vscode-notebook-cell://ssh-remote%2B7b22686f73744e616d65223a224469666645714d4c32227d/home/michael/diffeqml/Green-Planet-Transformers-3/notebooks/michael_scratch/load_model.ipynb#X16sdnNjb2RlLXJlbW90ZQ%3D%3D?line=11'>12</a>\u001b[0m     model\u001b[39m.\u001b[39;49mload_state_dict(new_state_dict)\n\u001b[1;32m     <a href='vscode-notebook-cell://ssh-remote%2B7b22686f73744e616d65223a224469666645714d4c32227d/home/michael/diffeqml/Green-Planet-Transformers-3/notebooks/michael_scratch/load_model.ipynb#X16sdnNjb2RlLXJlbW90ZQ%3D%3D?line=12'>13</a>\u001b[0m \u001b[39mexcept\u001b[39;00m:\n",
      "File \u001b[0;32m~/.cache/pypoetry/virtualenvs/dl4dyn-XWhuN2Iu-py3.10/lib/python3.10/site-packages/torch/nn/modules/module.py:1604\u001b[0m, in \u001b[0;36mModule.load_state_dict\u001b[0;34m(self, state_dict, strict)\u001b[0m\n\u001b[1;32m   1603\u001b[0m \u001b[39mif\u001b[39;00m \u001b[39mlen\u001b[39m(error_msgs) \u001b[39m>\u001b[39m \u001b[39m0\u001b[39m:\n\u001b[0;32m-> 1604\u001b[0m     \u001b[39mraise\u001b[39;00m \u001b[39mRuntimeError\u001b[39;00m(\u001b[39m'\u001b[39m\u001b[39mError(s) in loading state_dict for \u001b[39m\u001b[39m{}\u001b[39;00m\u001b[39m:\u001b[39m\u001b[39m\\n\u001b[39;00m\u001b[39m\\t\u001b[39;00m\u001b[39m{}\u001b[39;00m\u001b[39m'\u001b[39m\u001b[39m.\u001b[39mformat(\n\u001b[1;32m   1605\u001b[0m                        \u001b[39mself\u001b[39m\u001b[39m.\u001b[39m\u001b[39m__class__\u001b[39m\u001b[39m.\u001b[39m\u001b[39m__name__\u001b[39m, \u001b[39m\"\u001b[39m\u001b[39m\\n\u001b[39;00m\u001b[39m\\t\u001b[39;00m\u001b[39m\"\u001b[39m\u001b[39m.\u001b[39mjoin(error_msgs)))\n\u001b[1;32m   1606\u001b[0m \u001b[39mreturn\u001b[39;00m _IncompatibleKeys(missing_keys, unexpected_keys)\n",
      "\u001b[0;31mRuntimeError\u001b[0m: Error(s) in loading state_dict for AFNONet:\n\tsize mismatch for patch_embed.proj.weight: copying a param with shape torch.Size([768, 20, 8, 8]) from checkpoint, the shape in current model is torch.Size([768, 2, 8, 8]).\n\tsize mismatch for head.weight: copying a param with shape torch.Size([1280, 768]) from checkpoint, the shape in current model is torch.Size([128, 768]).",
      "\nDuring handling of the above exception, another exception occurred:\n",
      "\u001b[0;31mRuntimeError\u001b[0m                              Traceback (most recent call last)",
      "\u001b[1;32m/home/michael/diffeqml/Green-Planet-Transformers-3/notebooks/michael_scratch/load_model.ipynb Cell 10\u001b[0m in \u001b[0;36m<cell line: 2>\u001b[0;34m()\u001b[0m\n\u001b[1;32m      <a href='vscode-notebook-cell://ssh-remote%2B7b22686f73744e616d65223a224469666645714d4c32227d/home/michael/diffeqml/Green-Planet-Transformers-3/notebooks/michael_scratch/load_model.ipynb#X16sdnNjb2RlLXJlbW90ZQ%3D%3D?line=0'>1</a>\u001b[0m ckpt_path \u001b[39m=\u001b[39m \u001b[39m'\u001b[39m\u001b[39m../../checkpoint/model_weights/FCN_weights_v0/backbone.ckpt\u001b[39m\u001b[39m'\u001b[39m\n\u001b[0;32m----> <a href='vscode-notebook-cell://ssh-remote%2B7b22686f73744e616d65223a224469666645714d4c32227d/home/michael/diffeqml/Green-Planet-Transformers-3/notebooks/michael_scratch/load_model.ipynb#X16sdnNjb2RlLXJlbW90ZQ%3D%3D?line=1'>2</a>\u001b[0m model \u001b[39m=\u001b[39m load_model(model, ckpt_path)\n",
      "\u001b[1;32m/home/michael/diffeqml/Green-Planet-Transformers-3/notebooks/michael_scratch/load_model.ipynb Cell 10\u001b[0m in \u001b[0;36mload_model\u001b[0;34m(model, checkpoint_file)\u001b[0m\n\u001b[1;32m     <a href='vscode-notebook-cell://ssh-remote%2B7b22686f73744e616d65223a224469666645714d4c32227d/home/michael/diffeqml/Green-Planet-Transformers-3/notebooks/michael_scratch/load_model.ipynb#X16sdnNjb2RlLXJlbW90ZQ%3D%3D?line=11'>12</a>\u001b[0m     model\u001b[39m.\u001b[39mload_state_dict(new_state_dict)\n\u001b[1;32m     <a href='vscode-notebook-cell://ssh-remote%2B7b22686f73744e616d65223a224469666645714d4c32227d/home/michael/diffeqml/Green-Planet-Transformers-3/notebooks/michael_scratch/load_model.ipynb#X16sdnNjb2RlLXJlbW90ZQ%3D%3D?line=12'>13</a>\u001b[0m \u001b[39mexcept\u001b[39;00m:\n\u001b[0;32m---> <a href='vscode-notebook-cell://ssh-remote%2B7b22686f73744e616d65223a224469666645714d4c32227d/home/michael/diffeqml/Green-Planet-Transformers-3/notebooks/michael_scratch/load_model.ipynb#X16sdnNjb2RlLXJlbW90ZQ%3D%3D?line=13'>14</a>\u001b[0m     model\u001b[39m.\u001b[39;49mload_state_dict(checkpoint[\u001b[39m'\u001b[39;49m\u001b[39mmodel_state\u001b[39;49m\u001b[39m'\u001b[39;49m])\n\u001b[1;32m     <a href='vscode-notebook-cell://ssh-remote%2B7b22686f73744e616d65223a224469666645714d4c32227d/home/michael/diffeqml/Green-Planet-Transformers-3/notebooks/michael_scratch/load_model.ipynb#X16sdnNjb2RlLXJlbW90ZQ%3D%3D?line=14'>15</a>\u001b[0m model\u001b[39m.\u001b[39meval()\n\u001b[1;32m     <a href='vscode-notebook-cell://ssh-remote%2B7b22686f73744e616d65223a224469666645714d4c32227d/home/michael/diffeqml/Green-Planet-Transformers-3/notebooks/michael_scratch/load_model.ipynb#X16sdnNjb2RlLXJlbW90ZQ%3D%3D?line=15'>16</a>\u001b[0m \u001b[39mreturn\u001b[39;00m model\n",
      "File \u001b[0;32m~/.cache/pypoetry/virtualenvs/dl4dyn-XWhuN2Iu-py3.10/lib/python3.10/site-packages/torch/nn/modules/module.py:1604\u001b[0m, in \u001b[0;36mModule.load_state_dict\u001b[0;34m(self, state_dict, strict)\u001b[0m\n\u001b[1;32m   1599\u001b[0m         error_msgs\u001b[39m.\u001b[39minsert(\n\u001b[1;32m   1600\u001b[0m             \u001b[39m0\u001b[39m, \u001b[39m'\u001b[39m\u001b[39mMissing key(s) in state_dict: \u001b[39m\u001b[39m{}\u001b[39;00m\u001b[39m. \u001b[39m\u001b[39m'\u001b[39m\u001b[39m.\u001b[39mformat(\n\u001b[1;32m   1601\u001b[0m                 \u001b[39m'\u001b[39m\u001b[39m, \u001b[39m\u001b[39m'\u001b[39m\u001b[39m.\u001b[39mjoin(\u001b[39m'\u001b[39m\u001b[39m\"\u001b[39m\u001b[39m{}\u001b[39;00m\u001b[39m\"\u001b[39m\u001b[39m'\u001b[39m\u001b[39m.\u001b[39mformat(k) \u001b[39mfor\u001b[39;00m k \u001b[39min\u001b[39;00m missing_keys)))\n\u001b[1;32m   1603\u001b[0m \u001b[39mif\u001b[39;00m \u001b[39mlen\u001b[39m(error_msgs) \u001b[39m>\u001b[39m \u001b[39m0\u001b[39m:\n\u001b[0;32m-> 1604\u001b[0m     \u001b[39mraise\u001b[39;00m \u001b[39mRuntimeError\u001b[39;00m(\u001b[39m'\u001b[39m\u001b[39mError(s) in loading state_dict for \u001b[39m\u001b[39m{}\u001b[39;00m\u001b[39m:\u001b[39m\u001b[39m\\n\u001b[39;00m\u001b[39m\\t\u001b[39;00m\u001b[39m{}\u001b[39;00m\u001b[39m'\u001b[39m\u001b[39m.\u001b[39mformat(\n\u001b[1;32m   1605\u001b[0m                        \u001b[39mself\u001b[39m\u001b[39m.\u001b[39m\u001b[39m__class__\u001b[39m\u001b[39m.\u001b[39m\u001b[39m__name__\u001b[39m, \u001b[39m\"\u001b[39m\u001b[39m\\n\u001b[39;00m\u001b[39m\\t\u001b[39;00m\u001b[39m\"\u001b[39m\u001b[39m.\u001b[39mjoin(error_msgs)))\n\u001b[1;32m   1606\u001b[0m \u001b[39mreturn\u001b[39;00m _IncompatibleKeys(missing_keys, unexpected_keys)\n",
      "\u001b[0;31mRuntimeError\u001b[0m: Error(s) in loading state_dict for AFNONet:\n\tMissing key(s) in state_dict: \"pos_embed\", \"patch_embed.proj.weight\", \"patch_embed.proj.bias\", \"blocks.0.norm1.weight\", \"blocks.0.norm1.bias\", \"blocks.0.filter.w1\", \"blocks.0.filter.b1\", \"blocks.0.filter.w2\", \"blocks.0.filter.b2\", \"blocks.0.norm2.weight\", \"blocks.0.norm2.bias\", \"blocks.0.mlp.fc1.weight\", \"blocks.0.mlp.fc1.bias\", \"blocks.0.mlp.fc2.weight\", \"blocks.0.mlp.fc2.bias\", \"blocks.1.norm1.weight\", \"blocks.1.norm1.bias\", \"blocks.1.filter.w1\", \"blocks.1.filter.b1\", \"blocks.1.filter.w2\", \"blocks.1.filter.b2\", \"blocks.1.norm2.weight\", \"blocks.1.norm2.bias\", \"blocks.1.mlp.fc1.weight\", \"blocks.1.mlp.fc1.bias\", \"blocks.1.mlp.fc2.weight\", \"blocks.1.mlp.fc2.bias\", \"blocks.2.norm1.weight\", \"blocks.2.norm1.bias\", \"blocks.2.filter.w1\", \"blocks.2.filter.b1\", \"blocks.2.filter.w2\", \"blocks.2.filter.b2\", \"blocks.2.norm2.weight\", \"blocks.2.norm2.bias\", \"blocks.2.mlp.fc1.weight\", \"blocks.2.mlp.fc1.bias\", \"blocks.2.mlp.fc2.weight\", \"blocks.2.mlp.fc2.bias\", \"blocks.3.norm1.weight\", \"blocks.3.norm1.bias\", \"blocks.3.filter.w1\", \"blocks.3.filter.b1\", \"blocks.3.filter.w2\", \"blocks.3.filter.b2\", \"blocks.3.norm2.weight\", \"blocks.3.norm2.bias\", \"blocks.3.mlp.fc1.weight\", \"blocks.3.mlp.fc1.bias\", \"blocks.3.mlp.fc2.weight\", \"blocks.3.mlp.fc2.bias\", \"blocks.4.norm1.weight\", \"blocks.4.norm1.bias\", \"blocks.4.filter.w1\", \"blocks.4.filter.b1\", \"blocks.4.filter.w2\", \"blocks.4.filter.b2\", \"blocks.4.norm2.weight\", \"blocks.4.norm2.bias\", \"blocks.4.mlp.fc1.weight\", \"blocks.4.mlp.fc1.bias\", \"blocks.4.mlp.fc2.weight\", \"blocks.4.mlp.fc2.bias\", \"blocks.5.norm1.weight\", \"blocks.5.norm1.bias\", \"blocks.5.filter.w1\", \"blocks.5.filter.b1\", \"blocks.5.filter.w2\", \"blocks.5.filter.b2\", \"blocks.5.norm2.weight\", \"blocks.5.norm2.bias\", \"blocks.5.mlp.fc1.weight\", \"blocks.5.mlp.fc1.bias\", \"blocks.5.mlp.fc2.weight\", \"blocks.5.mlp.fc2.bias\", \"blocks.6.norm1.weight\", \"blocks.6.norm1.bias\", \"blocks.6.filter.w1\", \"blocks.6.filter.b1\", \"blocks.6.filter.w2\", \"blocks.6.filter.b2\", \"blocks.6.norm2.weight\", \"blocks.6.norm2.bias\", \"blocks.6.mlp.fc1.weight\", \"blocks.6.mlp.fc1.bias\", \"blocks.6.mlp.fc2.weight\", \"blocks.6.mlp.fc2.bias\", \"blocks.7.norm1.weight\", \"blocks.7.norm1.bias\", \"blocks.7.filter.w1\", \"blocks.7.filter.b1\", \"blocks.7.filter.w2\", \"blocks.7.filter.b2\", \"blocks.7.norm2.weight\", \"blocks.7.norm2.bias\", \"blocks.7.mlp.fc1.weight\", \"blocks.7.mlp.fc1.bias\", \"blocks.7.mlp.fc2.weight\", \"blocks.7.mlp.fc2.bias\", \"blocks.8.norm1.weight\", \"blocks.8.norm1.bias\", \"blocks.8.filter.w1\", \"blocks.8.filter.b1\", \"blocks.8.filter.w2\", \"blocks.8.filter.b2\", \"blocks.8.norm2.weight\", \"blocks.8.norm2.bias\", \"blocks.8.mlp.fc1.weight\", \"blocks.8.mlp.fc1.bias\", \"blocks.8.mlp.fc2.weight\", \"blocks.8.mlp.fc2.bias\", \"blocks.9.norm1.weight\", \"blocks.9.norm1.bias\", \"blocks.9.filter.w1\", \"blocks.9.filter.b1\", \"blocks.9.filter.w2\", \"blocks.9.filter.b2\", \"blocks.9.norm2.weight\", \"blocks.9.norm2.bias\", \"blocks.9.mlp.fc1.weight\", \"blocks.9.mlp.fc1.bias\", \"blocks.9.mlp.fc2.weight\", \"blocks.9.mlp.fc2.bias\", \"blocks.10.norm1.weight\", \"blocks.10.norm1.bias\", \"blocks.10.filter.w1\", \"blocks.10.filter.b1\", \"blocks.10.filter.w2\", \"blocks.10.filter.b2\", \"blocks.10.norm2.weight\", \"blocks.10.norm2.bias\", \"blocks.10.mlp.fc1.weight\", \"blocks.10.mlp.fc1.bias\", \"blocks.10.mlp.fc2.weight\", \"blocks.10.mlp.fc2.bias\", \"blocks.11.norm1.weight\", \"blocks.11.norm1.bias\", \"blocks.11.filter.w1\", \"blocks.11.filter.b1\", \"blocks.11.filter.w2\", \"blocks.11.filter.b2\", \"blocks.11.norm2.weight\", \"blocks.11.norm2.bias\", \"blocks.11.mlp.fc1.weight\", \"blocks.11.mlp.fc1.bias\", \"blocks.11.mlp.fc2.weight\", \"blocks.11.mlp.fc2.bias\", \"norm.weight\", \"norm.bias\", \"head.weight\". \n\tUnexpected key(s) in state_dict: \"module.pos_embed\", \"module.patch_embed.proj.weight\", \"module.patch_embed.proj.bias\", \"module.blocks.0.norm1.weight\", \"module.blocks.0.norm1.bias\", \"module.blocks.0.filter.w1\", \"module.blocks.0.filter.b1\", \"module.blocks.0.filter.w2\", \"module.blocks.0.filter.b2\", \"module.blocks.0.norm2.weight\", \"module.blocks.0.norm2.bias\", \"module.blocks.0.mlp.fc1.weight\", \"module.blocks.0.mlp.fc1.bias\", \"module.blocks.0.mlp.fc2.weight\", \"module.blocks.0.mlp.fc2.bias\", \"module.blocks.1.norm1.weight\", \"module.blocks.1.norm1.bias\", \"module.blocks.1.filter.w1\", \"module.blocks.1.filter.b1\", \"module.blocks.1.filter.w2\", \"module.blocks.1.filter.b2\", \"module.blocks.1.norm2.weight\", \"module.blocks.1.norm2.bias\", \"module.blocks.1.mlp.fc1.weight\", \"module.blocks.1.mlp.fc1.bias\", \"module.blocks.1.mlp.fc2.weight\", \"module.blocks.1.mlp.fc2.bias\", \"module.blocks.2.norm1.weight\", \"module.blocks.2.norm1.bias\", \"module.blocks.2.filter.w1\", \"module.blocks.2.filter.b1\", \"module.blocks.2.filter.w2\", \"module.blocks.2.filter.b2\", \"module.blocks.2.norm2.weight\", \"module.blocks.2.norm2.bias\", \"module.blocks.2.mlp.fc1.weight\", \"module.blocks.2.mlp.fc1.bias\", \"module.blocks.2.mlp.fc2.weight\", \"module.blocks.2.mlp.fc2.bias\", \"module.blocks.3.norm1.weight\", \"module.blocks.3.norm1.bias\", \"module.blocks.3.filter.w1\", \"module.blocks.3.filter.b1\", \"module.blocks.3.filter.w2\", \"module.blocks.3.filter.b2\", \"module.blocks.3.norm2.weight\", \"module.blocks.3.norm2.bias\", \"module.blocks.3.mlp.fc1.weight\", \"module.blocks.3.mlp.fc1.bias\", \"module.blocks.3.mlp.fc2.weight\", \"module.blocks.3.mlp.fc2.bias\", \"module.blocks.4.norm1.weight\", \"module.blocks.4.norm1.bias\", \"module.blocks.4.filter.w1\", \"module.blocks.4.filter.b1\", \"module.blocks.4.filter.w2\", \"module.blocks.4.filter.b2\", \"module.blocks.4.norm2.weight\", \"module.blocks.4.norm2.bias\", \"module.blocks.4.mlp.fc1.weight\", \"module.blocks.4.mlp.fc1.bias\", \"module.blocks.4.mlp.fc2.weight\", \"module.blocks.4.mlp.fc2.bias\", \"module.blocks.5.norm1.weight\", \"module.blocks.5.norm1.bias\", \"module.blocks.5.filter.w1\", \"module.blocks.5.filter.b1\", \"module.blocks.5.filter.w2\", \"module.blocks.5.filter.b2\", \"module.blocks.5.norm2.weight\", \"module.blocks.5.norm2.bias\", \"module.blocks.5.mlp.fc1.weight\", \"module.blocks.5.mlp.fc1.bias\", \"module.blocks.5.mlp.fc2.weight\", \"module.blocks.5.mlp.fc2.bias\", \"module.blocks.6.norm1.weight\", \"module.blocks.6.norm1.bias\", \"module.blocks.6.filter.w1\", \"module.blocks.6.filter.b1\", \"module.blocks.6.filter.w2\", \"module.blocks.6.filter.b2\", \"module.blocks.6.norm2.weight\", \"module.blocks.6.norm2.bias\", \"module.blocks.6.mlp.fc1.weight\", \"module.blocks.6.mlp.fc1.bias\", \"module.blocks.6.mlp.fc2.weight\", \"module.blocks.6.mlp.fc2.bias\", \"module.blocks.7.norm1.weight\", \"module.blocks.7.norm1.bias\", \"module.blocks.7.filter.w1\", \"module.blocks.7.filter.b1\", \"module.blocks.7.filter.w2\", \"module.blocks.7.filter.b2\", \"module.blocks.7.norm2.weight\", \"module.blocks.7.norm2.bias\", \"module.blocks.7.mlp.fc1.weight\", \"module.blocks.7.mlp.fc1.bias\", \"module.blocks.7.mlp.fc2.weight\", \"module.blocks.7.mlp.fc2.bias\", \"module.blocks.8.norm1.weight\", \"module.blocks.8.norm1.bias\", \"module.blocks.8.filter.w1\", \"module.blocks.8.filter.b1\", \"module.blocks.8.filter.w2\", \"module.blocks.8.filter.b2\", \"module.blocks.8.norm2.weight\", \"module.blocks.8.norm2.bias\", \"module.blocks.8.mlp.fc1.weight\", \"module.blocks.8.mlp.fc1.bias\", \"module.blocks.8.mlp.fc2.weight\", \"module.blocks.8.mlp.fc2.bias\", \"module.blocks.9.norm1.weight\", \"module.blocks.9.norm1.bias\", \"module.blocks.9.filter.w1\", \"module.blocks.9.filter.b1\", \"module.blocks.9.filter.w2\", \"module.blocks.9.filter.b2\", \"module.blocks.9.norm2.weight\", \"module.blocks.9.norm2.bias\", \"module.blocks.9.mlp.fc1.weight\", \"module.blocks.9.mlp.fc1.bias\", \"module.blocks.9.mlp.fc2.weight\", \"module.blocks.9.mlp.fc2.bias\", \"module.blocks.10.norm1.weight\", \"module.blocks.10.norm1.bias\", \"module.blocks.10.filter.w1\", \"module.blocks.10.filter.b1\", \"module.blocks.10.filter.w2\", \"module.blocks.10.filter.b2\", \"module.blocks.10.norm2.weight\", \"module.blocks.10.norm2.bias\", \"module.blocks.10.mlp.fc1.weight\", \"module.blocks.10.mlp.fc1.bias\", \"module.blocks.10.mlp.fc2.weight\", \"module.blocks.10.mlp.fc2.bias\", \"module.blocks.11.norm1.weight\", \"module.blocks.11.norm1.bias\", \"module.blocks.11.filter.w1\", \"module.blocks.11.filter.b1\", \"module.blocks.11.filter.w2\", \"module.blocks.11.filter.b2\", \"module.blocks.11.norm2.weight\", \"module.blocks.11.norm2.bias\", \"module.blocks.11.mlp.fc1.weight\", \"module.blocks.11.mlp.fc1.bias\", \"module.blocks.11.mlp.fc2.weight\", \"module.blocks.11.mlp.fc2.bias\", \"module.norm.weight\", \"module.norm.bias\", \"module.head.weight\". "
     ]
    }
   ],
   "source": [
    "ckpt_path = '../../checkpoint/model_weights/FCN_weights_v0/backbone.ckpt'\n",
    "model = load_model(model, ckpt_path)"
   ]
  },
  {
   "cell_type": "markdown",
   "metadata": {},
   "source": [
    "### Dummy inference pass"
   ]
  },
  {
   "cell_type": "markdown",
   "metadata": {},
   "source": []
  }
 ],
 "metadata": {
  "kernelspec": {
   "display_name": "Python 3.11.0rc2 64-bit",
   "language": "python",
   "name": "python3"
  },
  "language_info": {
   "codemirror_mode": {
    "name": "ipython",
    "version": 3
   },
   "file_extension": ".py",
   "mimetype": "text/x-python",
   "name": "python",
   "nbconvert_exporter": "python",
   "pygments_lexer": "ipython3",
   "version": "3.11.0"
  },
  "orig_nbformat": 4,
  "vscode": {
   "interpreter": {
    "hash": "ead1b95f633dc9c51826328e1846203f51a198c6fb5f2884a80417ba131d4e82"
   }
  }
 },
 "nbformat": 4,
 "nbformat_minor": 2
}
