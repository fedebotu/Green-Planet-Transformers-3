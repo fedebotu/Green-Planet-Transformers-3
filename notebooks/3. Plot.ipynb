{
 "cells": [
  {
   "cell_type": "markdown",
   "metadata": {},
   "source": [
    "## Load ERA5 data\n"
   ]
  },
  {
   "cell_type": "code",
   "execution_count": 1,
   "metadata": {},
   "outputs": [],
   "source": [
    "%load_ext autoreload\n",
    "%autoreload 2\n",
    "\n",
    "import numpy as np\n",
    "import matplotlib.pyplot as plt\n",
    "import os\n",
    "from pathlib import Path\n",
    "import requests\n",
    "import h5py\n",
    "import sys; sys.path.append('../')\n",
    "import openai\n",
    "\n",
    "from backend.geoloc import geocode, get_closest_pixel"
   ]
  },
  {
   "cell_type": "code",
   "execution_count": 2,
   "metadata": {},
   "outputs": [],
   "source": [
    "data_dir = Path('../data/era5/')\n",
    "\n",
    "# Open h5py file\n",
    "f = h5py.File(data_dir / 'sample.h5', 'r')"
   ]
  },
  {
   "cell_type": "code",
   "execution_count": 3,
   "metadata": {},
   "outputs": [],
   "source": [
    "# Load u wind, v wind, and temperature\n",
    "u = f['u10'][0]\n",
    "v = f['v10'][0]\n",
    "temp = f['t2m'][0]"
   ]
  },
  {
   "cell_type": "code",
   "execution_count": 5,
   "metadata": {},
   "outputs": [
    {
     "name": "stdout",
     "output_type": "stream",
     "text": [
      "Wind speed: 4.40 [m/s]\n",
      "Temperature: 15.63 [C]\n"
     ]
    }
   ],
   "source": [
    "# Image represents the Earth: get closest pixel to target location\n",
    "data = geocode(city='San Francisco', state='CA', country_code='US')\n",
    "lat_idx, lon_idx = get_closest_pixel(data['lat'], data['lon'])\n",
    "\n",
    "# Get the data\n",
    "u_sf = u[lat_idx, lon_idx]\n",
    "v_sf = v[lat_idx, lon_idx]\n",
    "temp_sf = temp[lat_idx, lon_idx]\n",
    "print('Wind speed: {:.2f} [m/s]'.format(np.sqrt(u_sf**2 + v_sf**2)))\n",
    "print(\"Temperature: {:.2f} [C]\".format(temp_sf - 273.15)) # kelvin to celsius\n"
   ]
  },
  {
   "cell_type": "code",
   "execution_count": 34,
   "metadata": {},
   "outputs": [
    {
     "name": "stdout",
     "output_type": "stream",
     "text": [
      "(100, 200)\n",
      "(100,)\n",
      "(200,)\n"
     ]
    }
   ],
   "source": [
    "def crop_data(x, lat_idx, lon_idx, num_pixels=100, max_lon_idx=1440, max_lat_idx=721, return_idxs=False):\n",
    "    \"\"\"\n",
    "    Given a 2D array, crop the data around a given location with a given number of pixels.\n",
    "    We implement checks to make sure we don't go out of bounds.\n",
    "    \"\"\"\n",
    "    lat_min = lat_idx - int(num_pixels / 2)\n",
    "    lat_max = lat_idx + int(num_pixels / 2)\n",
    "    lon_min = lon_idx - num_pixels\n",
    "    lon_max = lon_idx + num_pixels\n",
    "\n",
    "    if lat_min < 0:\n",
    "        lat_min = 0\n",
    "    if lat_max > max_lat_idx:\n",
    "        lat_max = max_lat_idx\n",
    "    if lon_min < 0:\n",
    "        lon_min += max_lon_idx\n",
    "    if lon_max > max_lon_idx:\n",
    "        lon_max -= max_lon_idx\n",
    "\n",
    "    # Get indexes of the data\n",
    "    if lat_min < lat_max:\n",
    "        lat_idxs = np.arange(lat_min, lat_max)\n",
    "    else:\n",
    "        lat_idxs = np.concatenate((np.arange(lat_min, max_lat_idx), np.arange(0, lat_max)))\n",
    "\n",
    "    if lon_min < lon_max:\n",
    "        lon_idxs = np.arange(lon_min, lon_max)\n",
    "    else:\n",
    "        lon_idxs = np.concatenate((np.arange(lon_min, max_lon_idx), np.arange(0, lon_max)))\n",
    "    if return_idxs:\n",
    "        return x[:, lon_idxs][lat_idxs, :], lat_idxs, lon_idxs\n",
    "    else:\n",
    "        return x[:, lon_idxs][lat_idxs, :]\n",
    "\n",
    "\n",
    "# dat = np.sqrt(f['v10'][0]**2 + f['u10'][0]**2) \n",
    "dat = f['tp'][0]\n",
    "temp_sf, lat_idxs, lon_idxs = crop_data(dat, lat_idx, lon_idx, num_pixels=100, return_idxs=True)\n",
    "\n",
    "\n",
    "print(temp_sf.shape)\n",
    "print(lat_idxs.shape)\n",
    "print(lon_idxs.shape)\n"
   ]
  },
  {
   "cell_type": "code",
   "execution_count": 35,
   "metadata": {},
   "outputs": [
    {
     "name": "stdout",
     "output_type": "stream",
     "text": [
      "(100, 200) (200, 100) (200, 100)\n"
     ]
    }
   ],
   "source": [
    "# Get latitudes and longitudes with the same shape as the data\n",
    "import pandas as pd\n",
    "\n",
    "\n",
    "lats = np.linspace(90, -90, 721)\n",
    "longs = np.linspace(-180, 180, 1440)\n",
    "\n",
    "# Get coordinates of the data we cropped\n",
    "lats_sf = lats[lat_idxs]\n",
    "longs_sf = longs[lon_idxs]\n",
    "\n",
    "# Make meshgrid\n",
    "lats_sf, longs_sf = np.meshgrid(lats_sf, longs_sf)\n",
    "\n",
    "# Create pandas dataframe with columns temp_sf, longitudes, and latitudes\n",
    "print(temp_sf.shape, lats_sf.shape, longs_sf.shape)\n",
    "\n",
    "df = pd.DataFrame({'z': temp_sf.flatten(), 'longitude': longs_sf.flatten(), 'latitude': lats_sf.flatten()})\n"
   ]
  },
  {
   "cell_type": "markdown",
   "metadata": {},
   "source": [
    "### Save for `pydeck`"
   ]
  },
  {
   "cell_type": "code",
   "execution_count": 36,
   "metadata": {},
   "outputs": [],
   "source": [
    "#  save dataframe to csv\n",
    "df.to_csv('temp_sf.csv', index=False)"
   ]
  }
 ],
 "metadata": {
  "kernelspec": {
   "display_name": "Python 3.10.6 ('env': venv)",
   "language": "python",
   "name": "python3"
  },
  "language_info": {
   "codemirror_mode": {
    "name": "ipython",
    "version": 3
   },
   "file_extension": ".py",
   "mimetype": "text/x-python",
   "name": "python",
   "nbconvert_exporter": "python",
   "pygments_lexer": "ipython3",
   "version": "3.10.6"
  },
  "vscode": {
   "interpreter": {
    "hash": "59baffb890c9232534747c27c9bb0af7473719d99bbf6139ee7c29709750fc89"
   }
  }
 },
 "nbformat": 4,
 "nbformat_minor": 2
}
