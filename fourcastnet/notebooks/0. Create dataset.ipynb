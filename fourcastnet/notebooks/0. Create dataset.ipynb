{
 "cells": [
  {
   "cell_type": "markdown",
   "metadata": {},
   "source": [
    "# ERA5 dataset conversion\n",
    "\n",
    "You may find more information under `data/era5/README.md` for data description\n",
    "\n",
    "In short, the dataset is made of data on a grid representing the Earth, and each one is an image"
   ]
  },
  {
   "cell_type": "code",
   "execution_count": 6,
   "metadata": {},
   "outputs": [
    {
     "name": "stdout",
     "output_type": "stream",
     "text": [
      "The autoreload extension is already loaded. To reload it, use:\n",
      "  %reload_ext autoreload\n"
     ]
    }
   ],
   "source": [
    "%load_ext autoreload\n",
    "%autoreload 2\n",
    "\n",
    "import numpy as np\n",
    "import matplotlib.pyplot as plt\n",
    "import os\n",
    "from pathlib import Path\n",
    "import h5py\n",
    "\n",
    "import sys; sys.path.append('../')"
   ]
  },
  {
   "cell_type": "code",
   "execution_count": 7,
   "metadata": {},
   "outputs": [],
   "source": [
    "data_dir = Path('/datasets/openai_hackathon/')\n",
    "\n",
    "# Open hdf5 file\n",
    "fields = h5py.File(data_dir/'data/2018.h5', 'r')\n",
    "precipitations = h5py.File(data_dir/'precipitation_data/2018.h5', 'r')"
   ]
  },
  {
   "cell_type": "markdown",
   "metadata": {},
   "source": [
    "We need to get the variables from here https://github.com/NVlabs/FourCastNet/blob/master/data_process/parallel_copy_small_set.py"
   ]
  },
  {
   "cell_type": "code",
   "execution_count": 8,
   "metadata": {},
   "outputs": [],
   "source": [
    "variables = ['u10', 'v10', 't2m', 'sp', 'mslp', 't850', 'u1000', 'v1000', 'z1000', 'u850', 'v850', 'z850', 'u500', 'v500', 'z500', 't500', 'z50', 'r500', 'r850', 'tcwv', 'sst']\n",
    "\n",
    "# variables description dictionary\n",
    "variables_description = {\n",
    "    'u10': '10 metre U wind component [m/s]',\n",
    "    'v10': '10 metre V wind component [m/s]',\n",
    "    't2m': '2 metre temperature [K]',\n",
    "    'sp': 'Surface pressure [Pa]',\n",
    "    'mslp': 'Mean sea level pressure [Pa]',\n",
    "    't850': 'Temperature at 850 hPa [K]',\n",
    "    'u1000': '1000 metre U wind component [m/s]',\n",
    "    'v1000': '1000 metre V wind component [m/s]',\n",
    "    'z1000': '1000 metre geopotential [m^2/s^2]',\n",
    "    'u850': '850 metre U wind component [m/s]',\n",
    "    'v850': '850 metre V wind component [m/s]',\n",
    "    'z850': '850 metre geopotential [m^2/s^2]',\n",
    "    'u500': '500 metre U wind component [m/s]',\n",
    "    'v500': '500 metre V wind component [m/s]',\n",
    "    'z500': '500 metre geopotential [m^2/s^2]',\n",
    "    't500': 'Temperature at 500 hPa [K]',\n",
    "    'z50': '50 metre geopotential [m^2/s^2]',\n",
    "    'r500': 'Relative humidity at 500 hPa [%]',\n",
    "    'r850': 'Relative humidity at 850 hPa [%]',\n",
    "    'tcwv': 'Total column water vapour [kg/m^2]',\n",
    "    'sst': 'Sea surface temperature [K]'\n",
    "}"
   ]
  },
  {
   "cell_type": "markdown",
   "metadata": {},
   "source": [
    "## One week"
   ]
  },
  {
   "cell_type": "code",
   "execution_count": 9,
   "metadata": {},
   "outputs": [],
   "source": [
    "# 7 days slice\n",
    "start = 1072 # around Nov 13\n",
    "end = start +  7*4 # 3 days * 4 time steps per day\n",
    "data_sliced = fields['fields'][start:end, :, :, :]\n",
    "precip_sliced = precipitations['tp'][start:end, :, :]"
   ]
  },
  {
   "cell_type": "code",
   "execution_count": 10,
   "metadata": {},
   "outputs": [],
   "source": [
    "# Save in a single file with variable names\n",
    "with h5py.File('single_week.h5', 'w') as f:\n",
    "    for i, var in enumerate(variables):\n",
    "        f.create_dataset(var, data=data_sliced[:, i, :, :])\n",
    "        f[var].attrs['description'] = variables_description[var]\n",
    "    f.create_dataset('tp', data=precip_sliced)\n",
    "    f['tp'].attrs['description'] = 'Total precipitation [mm]'"
   ]
  },
  {
   "cell_type": "code",
   "execution_count": 12,
   "metadata": {},
   "outputs": [],
   "source": [
    "## Single\n",
    "\n",
    "# 7 days slice\n",
    "start = 1072 # around Nov 13\n",
    "end = start +  1*1 # 3 days * 4 time steps per day\n",
    "data_sliced = fields['fields'][start:end, :, :, :]\n",
    "precip_sliced = precipitations['tp'][start:end, :, :]\n",
    "\n",
    "\n",
    "# Save in a single file with variable names\n",
    "with h5py.File('sample.h5', 'w') as f:\n",
    "    for i, var in enumerate(variables):\n",
    "        f.create_dataset(var, data=data_sliced[:, i, :, :])\n",
    "        f[var].attrs['description'] = variables_description[var]\n",
    "    f.create_dataset('tp', data=precip_sliced)\n",
    "    f['tp'].attrs['description'] = 'Total precipitation [mm]'"
   ]
  }
 ],
 "metadata": {
  "kernelspec": {
   "display_name": "Python 3.9.12 ('env': venv)",
   "language": "python",
   "name": "python3"
  },
  "language_info": {
   "codemirror_mode": {
    "name": "ipython",
    "version": 3
   },
   "file_extension": ".py",
   "mimetype": "text/x-python",
   "name": "python",
   "nbconvert_exporter": "python",
   "pygments_lexer": "ipython3",
   "version": "3.9.12"
  },
  "orig_nbformat": 4,
  "vscode": {
   "interpreter": {
    "hash": "2059ec4aa1ba4a33fa1ad2347ce479cc47abd1b7cc3b22e77fa86f5668679ef0"
   }
  }
 },
 "nbformat": 4,
 "nbformat_minor": 2
}
